{
 "cells": [
  {
   "cell_type": "markdown",
   "id": "397cd2c3",
   "metadata": {},
   "source": [
    "## Brief Projet : \n",
    "\n",
    "Vous êtes un data analyst ,vous travaillez en bénévolat pour la médiathèque de la ville qui a mis en place un site web pour la vente de certains livres de son stock.. et elle souhaite analyser les caractéristiques sa clientèle pour mieux comprendre les tendances de leurs reservations/achats de livres. \n",
    "\n",
    "La médiathèque vous donne accès à leur site : http://books.toscrape.com/index.html. et souhaite que vous collectez/analysez leurs données.\n",
    "\n",
    "\n",
    "**Étapes du projet** :\n",
    "\n",
    "1. **Collecte de données** : \n",
    "* Utiliser la bibliothèque `requests` pour envoyer des requêtes HTTP au site web qui répertorie les livres. Vous récupérez le contenu HTML de la page web.\n",
    "\n",
    "* A l'aide de la bibliothèque `Beautiful Soup`, analyser le contenu HTML du site et extraire les informations pertinentes: parcourir le code HTML, identifier les balises cibles (qui contiennent les données sur les livres, telles que `<div>` ou `<li>` ) et extraire les informations pertinentes telles que le nom du livre, la catégorie, la note moyenne des avis, le nombre de livres en stock, le prix etc.\n",
    "\n",
    "2. **Nettoyage et préparation des données** : nettoyer les valeurs, convertir les types de données si nécessaire, gérer les valeurs manquantes, etc.\n",
    "\n",
    "4. **Analyse des données** : \n",
    "\n",
    "* Faire une analyse exploratoire des données : identification de KPIs pertinents ,création de graphiques, le calcul de statistiques descriptives, l'identification de tendances, etc => pour aider la médiathèque à mieux faire son étude de clientèle. \n",
    "\n"
   ]
  },
  {
   "cell_type": "markdown",
   "id": "2ff390a7",
   "metadata": {},
   "source": [
    "### Importer les librairies"
   ]
  },
  {
   "cell_type": "code",
   "execution_count": 3,
   "id": "31ac5e32",
   "metadata": {},
   "outputs": [],
   "source": [
    "import requests\n",
    "from bs4 import BeautifulSoup\n",
    "\n",
    "import pandas as pd\n",
    "import matplotlib.pyplot as plt\n",
    "import seaborn as sns\n"
   ]
  },
  {
   "cell_type": "markdown",
   "id": "70592e9d",
   "metadata": {},
   "source": [
    "### Collecte de données"
   ]
  },
  {
   "cell_type": "markdown",
   "id": "23062350",
   "metadata": {},
   "source": [
    "####  Récupérer les livres de la première page"
   ]
  },
  {
   "cell_type": "code",
   "execution_count": 4,
   "id": "4fa704a6",
   "metadata": {},
   "outputs": [],
   "source": [
    "# URL de la page principale\n",
    "url = \"http://books.toscrape.com/\""
   ]
  },
  {
   "cell_type": "code",
   "execution_count": 6,
   "id": "7ff16747",
   "metadata": {
    "scrolled": false
   },
   "outputs": [
    {
     "name": "stdout",
     "output_type": "stream",
     "text": [
      "Titre : A Light in the Attic\n",
      "Price : Â£51.77\n",
      "Rating : Three\n",
      "Titre : Tipping the Velvet\n",
      "Price : Â£53.74\n",
      "Rating : One\n",
      "Titre : Soumission\n",
      "Price : Â£50.10\n",
      "Rating : One\n",
      "Titre : Sharp Objects\n",
      "Price : Â£47.82\n",
      "Rating : Four\n",
      "Titre : Sapiens: A Brief History of Humankind\n",
      "Price : Â£54.23\n",
      "Rating : Five\n",
      "Titre : The Requiem Red\n",
      "Price : Â£22.65\n",
      "Rating : One\n",
      "Titre : The Dirty Little Secrets of Getting Your Dream Job\n",
      "Price : Â£33.34\n",
      "Rating : Four\n",
      "Titre : The Coming Woman: A Novel Based on the Life of the Infamous Feminist, Victoria Woodhull\n",
      "Price : Â£17.93\n",
      "Rating : Three\n",
      "Titre : The Boys in the Boat: Nine Americans and Their Epic Quest for Gold at the 1936 Berlin Olympics\n",
      "Price : Â£22.60\n",
      "Rating : Four\n",
      "Titre : The Black Maria\n",
      "Price : Â£52.15\n",
      "Rating : One\n",
      "Titre : Starving Hearts (Triangular Trade Trilogy, #1)\n",
      "Price : Â£13.99\n",
      "Rating : Two\n",
      "Titre : Shakespeare's Sonnets\n",
      "Price : Â£20.66\n",
      "Rating : Four\n",
      "Titre : Set Me Free\n",
      "Price : Â£17.46\n",
      "Rating : Five\n",
      "Titre : Scott Pilgrim's Precious Little Life (Scott Pilgrim #1)\n",
      "Price : Â£52.29\n",
      "Rating : Five\n",
      "Titre : Rip it Up and Start Again\n",
      "Price : Â£35.02\n",
      "Rating : Five\n",
      "Titre : Our Band Could Be Your Life: Scenes from the American Indie Underground, 1981-1991\n",
      "Price : Â£57.25\n",
      "Rating : Three\n",
      "Titre : Olio\n",
      "Price : Â£23.88\n",
      "Rating : One\n",
      "Titre : Mesaerion: The Best Science Fiction Stories 1800-1849\n",
      "Price : Â£37.59\n",
      "Rating : One\n",
      "Titre : Libertarianism for Beginners\n",
      "Price : Â£51.33\n",
      "Rating : Two\n",
      "Titre : It's Only the Himalayas\n",
      "Price : Â£45.17\n",
      "Rating : Two\n"
     ]
    }
   ],
   "source": [
    "# URL de la page principale\n",
    "url = \"http://books.toscrape.com/\"\n",
    "#url=\"http://books.toscrape.com/catalogue/page-1.html\"\n",
    "# Envoyer une requête GET à l'URL\n",
    "response = requests.get(url)\n",
    "\n",
    "# Vérifier si la requête s'est bien déroulée\n",
    "if response.status_code == 200:\n",
    "    # Analyser le contenu HTML de la page\n",
    "    soup = BeautifulSoup(response.content, 'html.parser')\n",
    "\n",
    "        # Extraire le titre du livre\n",
    "        # Extraire le prix du livre\n",
    "        # Extraire la notation du livre\n",
    "        \n",
    "        # Afficher les informations extraites\n",
    "        print(f\"Titre : {title}\")\n",
    "        print(f\"Price : {price}\")\n",
    "        print(f\"Rating : {rating}\")\n"
   ]
  },
  {
   "cell_type": "code",
   "execution_count": 5,
   "id": "23fff0e5",
   "metadata": {},
   "outputs": [
    {
     "name": "stdout",
     "output_type": "stream",
     "text": [
      "Titre : A Light in the Attic\n",
      "Price : £51.77\n",
      "Rating : Three\n",
      "Titre : Tipping the Velvet\n",
      "Price : £53.74\n",
      "Rating : One\n",
      "Titre : Soumission\n",
      "Price : £50.10\n",
      "Rating : One\n",
      "Titre : Sharp Objects\n",
      "Price : £47.82\n",
      "Rating : Four\n",
      "Titre : Sapiens: A Brief History of Humankind\n",
      "Price : £54.23\n",
      "Rating : Five\n",
      "Titre : The Requiem Red\n",
      "Price : £22.65\n",
      "Rating : One\n",
      "Titre : The Dirty Little Secrets of Getting Your Dream Job\n",
      "Price : £33.34\n",
      "Rating : Four\n",
      "Titre : The Coming Woman: A Novel Based on the Life of the Infamous Feminist, Victoria Woodhull\n",
      "Price : £17.93\n",
      "Rating : Three\n",
      "Titre : The Boys in the Boat: Nine Americans and Their Epic Quest for Gold at the 1936 Berlin Olympics\n",
      "Price : £22.60\n",
      "Rating : Four\n",
      "Titre : The Black Maria\n",
      "Price : £52.15\n",
      "Rating : One\n",
      "Titre : Starving Hearts (Triangular Trade Trilogy, #1)\n",
      "Price : £13.99\n",
      "Rating : Two\n",
      "Titre : Shakespeare's Sonnets\n",
      "Price : £20.66\n",
      "Rating : Four\n",
      "Titre : Set Me Free\n",
      "Price : £17.46\n",
      "Rating : Five\n",
      "Titre : Scott Pilgrim's Precious Little Life (Scott Pilgrim #1)\n",
      "Price : £52.29\n",
      "Rating : Five\n",
      "Titre : Rip it Up and Start Again\n",
      "Price : £35.02\n",
      "Rating : Five\n",
      "Titre : Our Band Could Be Your Life: Scenes from the American Indie Underground, 1981-1991\n",
      "Price : £57.25\n",
      "Rating : Three\n",
      "Titre : Olio\n",
      "Price : £23.88\n",
      "Rating : One\n",
      "Titre : Mesaerion: The Best Science Fiction Stories 1800-1849\n",
      "Price : £37.59\n",
      "Rating : One\n",
      "Titre : Libertarianism for Beginners\n",
      "Price : £51.33\n",
      "Rating : Two\n",
      "Titre : It's Only the Himalayas\n",
      "Price : £45.17\n",
      "Rating : Two\n"
     ]
    }
   ],
   "source": [
    "# URL de la page principale\n",
    "url = \"http://books.toscrape.com/\"\n",
    "#url=\"http://books.toscrape.com/catalogue/page-1.html\"\n",
    "# Envoyer une requête GET à l'URL\n",
    "response = requests.get(url)\n",
    "\n",
    "def bookInfo(soup):\n",
    "    for i in soup.find(\"ol\", class_=\"row\").find_all(\"li\"):\n",
    "        # Extraire le titre du livre\n",
    "        # Extraire le prix du livre\n",
    "        # Extraire la notation du livre\n",
    "        title = i.h3.a[\"title\"]\n",
    "        price = i.find(\"div\", class_=\"product_price\").find(\"p\", class_=\"price_color\").text\n",
    "        rating = i.find(\"p\", class_=\"star-rating\")['class'][1]\n",
    "        \n",
    "        # Afficher les informations extraites\n",
    "        print(f\"Titre : {title}\")\n",
    "        print(f\"Price : {price}\")\n",
    "        print(f\"Rating : {rating}\")\n",
    "\n",
    "# Vérifier si la requête s'est bien déroulée\n",
    "if response.status_code == 200:\n",
    "    # Analyser le contenu HTML de la page\n",
    "    soup = BeautifulSoup(response.content, 'html.parser')\n",
    "    bookInfo(soup)\n"
   ]
  },
  {
   "cell_type": "markdown",
   "id": "e4b84dd5",
   "metadata": {},
   "source": [
    "#### Récupérer la liste des catégories"
   ]
  },
  {
   "cell_type": "code",
   "execution_count": 19,
   "id": "cd3fe807",
   "metadata": {},
   "outputs": [
    {
     "data": {
      "text/plain": [
       "['http://books.toscrape.com/catalogue/category/books_1/index.html',\n",
       " 'http://books.toscrape.com/catalogue/category/books/travel_2/index.html',\n",
       " 'http://books.toscrape.com/catalogue/category/books/mystery_3/index.html',\n",
       " 'http://books.toscrape.com/catalogue/category/books/historical-fiction_4/index.html',\n",
       " 'http://books.toscrape.com/catalogue/category/books/sequential-art_5/index.html',\n",
       " 'http://books.toscrape.com/catalogue/category/books/classics_6/index.html',\n",
       " 'http://books.toscrape.com/catalogue/category/books/philosophy_7/index.html',\n",
       " 'http://books.toscrape.com/catalogue/category/books/romance_8/index.html',\n",
       " 'http://books.toscrape.com/catalogue/category/books/womens-fiction_9/index.html',\n",
       " 'http://books.toscrape.com/catalogue/category/books/fiction_10/index.html',\n",
       " 'http://books.toscrape.com/catalogue/category/books/childrens_11/index.html',\n",
       " 'http://books.toscrape.com/catalogue/category/books/religion_12/index.html',\n",
       " 'http://books.toscrape.com/catalogue/category/books/nonfiction_13/index.html',\n",
       " 'http://books.toscrape.com/catalogue/category/books/music_14/index.html',\n",
       " 'http://books.toscrape.com/catalogue/category/books/default_15/index.html',\n",
       " 'http://books.toscrape.com/catalogue/category/books/science-fiction_16/index.html',\n",
       " 'http://books.toscrape.com/catalogue/category/books/sports-and-games_17/index.html',\n",
       " 'http://books.toscrape.com/catalogue/category/books/add-a-comment_18/index.html',\n",
       " 'http://books.toscrape.com/catalogue/category/books/fantasy_19/index.html',\n",
       " 'http://books.toscrape.com/catalogue/category/books/new-adult_20/index.html',\n",
       " 'http://books.toscrape.com/catalogue/category/books/young-adult_21/index.html',\n",
       " 'http://books.toscrape.com/catalogue/category/books/science_22/index.html',\n",
       " 'http://books.toscrape.com/catalogue/category/books/poetry_23/index.html',\n",
       " 'http://books.toscrape.com/catalogue/category/books/paranormal_24/index.html',\n",
       " 'http://books.toscrape.com/catalogue/category/books/art_25/index.html',\n",
       " 'http://books.toscrape.com/catalogue/category/books/psychology_26/index.html',\n",
       " 'http://books.toscrape.com/catalogue/category/books/autobiography_27/index.html',\n",
       " 'http://books.toscrape.com/catalogue/category/books/parenting_28/index.html',\n",
       " 'http://books.toscrape.com/catalogue/category/books/adult-fiction_29/index.html',\n",
       " 'http://books.toscrape.com/catalogue/category/books/humor_30/index.html',\n",
       " 'http://books.toscrape.com/catalogue/category/books/horror_31/index.html',\n",
       " 'http://books.toscrape.com/catalogue/category/books/history_32/index.html',\n",
       " 'http://books.toscrape.com/catalogue/category/books/food-and-drink_33/index.html',\n",
       " 'http://books.toscrape.com/catalogue/category/books/christian-fiction_34/index.html',\n",
       " 'http://books.toscrape.com/catalogue/category/books/business_35/index.html',\n",
       " 'http://books.toscrape.com/catalogue/category/books/biography_36/index.html',\n",
       " 'http://books.toscrape.com/catalogue/category/books/thriller_37/index.html',\n",
       " 'http://books.toscrape.com/catalogue/category/books/contemporary_38/index.html',\n",
       " 'http://books.toscrape.com/catalogue/category/books/spirituality_39/index.html',\n",
       " 'http://books.toscrape.com/catalogue/category/books/academic_40/index.html',\n",
       " 'http://books.toscrape.com/catalogue/category/books/self-help_41/index.html',\n",
       " 'http://books.toscrape.com/catalogue/category/books/historical_42/index.html',\n",
       " 'http://books.toscrape.com/catalogue/category/books/christian_43/index.html',\n",
       " 'http://books.toscrape.com/catalogue/category/books/suspense_44/index.html',\n",
       " 'http://books.toscrape.com/catalogue/category/books/short-stories_45/index.html',\n",
       " 'http://books.toscrape.com/catalogue/category/books/novels_46/index.html',\n",
       " 'http://books.toscrape.com/catalogue/category/books/health_47/index.html',\n",
       " 'http://books.toscrape.com/catalogue/category/books/politics_48/index.html',\n",
       " 'http://books.toscrape.com/catalogue/category/books/cultural_49/index.html',\n",
       " 'http://books.toscrape.com/catalogue/category/books/erotica_50/index.html',\n",
       " 'http://books.toscrape.com/catalogue/category/books/crime_51/index.html']"
      ]
     },
     "execution_count": 19,
     "metadata": {},
     "output_type": "execute_result"
    }
   ],
   "source": [
    "# Créer une liste avec les liens href de toutes les catégories\n",
    "#TBC    \n",
    "categories_urls"
   ]
  },
  {
   "cell_type": "code",
   "execution_count": 6,
   "id": "bc400348",
   "metadata": {},
   "outputs": [
    {
     "data": {
      "text/plain": [
       "['http://books.toscrape.com/catalogue/category/books_1/index.html',\n",
       " 'http://books.toscrape.com/catalogue/category/books/travel_2/index.html',\n",
       " 'http://books.toscrape.com/catalogue/category/books/mystery_3/index.html',\n",
       " 'http://books.toscrape.com/catalogue/category/books/historical-fiction_4/index.html',\n",
       " 'http://books.toscrape.com/catalogue/category/books/sequential-art_5/index.html',\n",
       " 'http://books.toscrape.com/catalogue/category/books/classics_6/index.html',\n",
       " 'http://books.toscrape.com/catalogue/category/books/philosophy_7/index.html',\n",
       " 'http://books.toscrape.com/catalogue/category/books/romance_8/index.html',\n",
       " 'http://books.toscrape.com/catalogue/category/books/womens-fiction_9/index.html',\n",
       " 'http://books.toscrape.com/catalogue/category/books/fiction_10/index.html',\n",
       " 'http://books.toscrape.com/catalogue/category/books/childrens_11/index.html',\n",
       " 'http://books.toscrape.com/catalogue/category/books/religion_12/index.html',\n",
       " 'http://books.toscrape.com/catalogue/category/books/nonfiction_13/index.html',\n",
       " 'http://books.toscrape.com/catalogue/category/books/music_14/index.html',\n",
       " 'http://books.toscrape.com/catalogue/category/books/default_15/index.html',\n",
       " 'http://books.toscrape.com/catalogue/category/books/science-fiction_16/index.html',\n",
       " 'http://books.toscrape.com/catalogue/category/books/sports-and-games_17/index.html',\n",
       " 'http://books.toscrape.com/catalogue/category/books/add-a-comment_18/index.html',\n",
       " 'http://books.toscrape.com/catalogue/category/books/fantasy_19/index.html',\n",
       " 'http://books.toscrape.com/catalogue/category/books/new-adult_20/index.html',\n",
       " 'http://books.toscrape.com/catalogue/category/books/young-adult_21/index.html',\n",
       " 'http://books.toscrape.com/catalogue/category/books/science_22/index.html',\n",
       " 'http://books.toscrape.com/catalogue/category/books/poetry_23/index.html',\n",
       " 'http://books.toscrape.com/catalogue/category/books/paranormal_24/index.html',\n",
       " 'http://books.toscrape.com/catalogue/category/books/art_25/index.html',\n",
       " 'http://books.toscrape.com/catalogue/category/books/psychology_26/index.html',\n",
       " 'http://books.toscrape.com/catalogue/category/books/autobiography_27/index.html',\n",
       " 'http://books.toscrape.com/catalogue/category/books/parenting_28/index.html',\n",
       " 'http://books.toscrape.com/catalogue/category/books/adult-fiction_29/index.html',\n",
       " 'http://books.toscrape.com/catalogue/category/books/humor_30/index.html',\n",
       " 'http://books.toscrape.com/catalogue/category/books/horror_31/index.html',\n",
       " 'http://books.toscrape.com/catalogue/category/books/history_32/index.html',\n",
       " 'http://books.toscrape.com/catalogue/category/books/food-and-drink_33/index.html',\n",
       " 'http://books.toscrape.com/catalogue/category/books/christian-fiction_34/index.html',\n",
       " 'http://books.toscrape.com/catalogue/category/books/business_35/index.html',\n",
       " 'http://books.toscrape.com/catalogue/category/books/biography_36/index.html',\n",
       " 'http://books.toscrape.com/catalogue/category/books/thriller_37/index.html',\n",
       " 'http://books.toscrape.com/catalogue/category/books/contemporary_38/index.html',\n",
       " 'http://books.toscrape.com/catalogue/category/books/spirituality_39/index.html',\n",
       " 'http://books.toscrape.com/catalogue/category/books/academic_40/index.html',\n",
       " 'http://books.toscrape.com/catalogue/category/books/self-help_41/index.html',\n",
       " 'http://books.toscrape.com/catalogue/category/books/historical_42/index.html',\n",
       " 'http://books.toscrape.com/catalogue/category/books/christian_43/index.html',\n",
       " 'http://books.toscrape.com/catalogue/category/books/suspense_44/index.html',\n",
       " 'http://books.toscrape.com/catalogue/category/books/short-stories_45/index.html',\n",
       " 'http://books.toscrape.com/catalogue/category/books/novels_46/index.html',\n",
       " 'http://books.toscrape.com/catalogue/category/books/health_47/index.html',\n",
       " 'http://books.toscrape.com/catalogue/category/books/politics_48/index.html',\n",
       " 'http://books.toscrape.com/catalogue/category/books/cultural_49/index.html',\n",
       " 'http://books.toscrape.com/catalogue/category/books/erotica_50/index.html',\n",
       " 'http://books.toscrape.com/catalogue/category/books/crime_51/index.html']"
      ]
     },
     "execution_count": 6,
     "metadata": {},
     "output_type": "execute_result"
    }
   ],
   "source": [
    "categories_urls = list(map(lambda x: url+x[\"href\"],soup.find(\"div\", class_=\"side_categories\").find_all(\"a\")))\n",
    "categories_urls"
   ]
  },
  {
   "cell_type": "markdown",
   "id": "5efff486",
   "metadata": {},
   "source": [
    "#### Récupérer les livres de toutes les pages  "
   ]
  },
  {
   "cell_type": "code",
   "execution_count": 7,
   "id": "76c4e490",
   "metadata": {},
   "outputs": [],
   "source": [
    "# Fonction pour extraire les informations d'une page donnée\n",
    "def extract_book_info(page_url):\n",
    "    books = []\n",
    "    response = requests.get(page_url)\n",
    "    if response.status_code == 200:\n",
    "        soup = BeautifulSoup(response.text, 'html.parser')\n",
    "        #TBC\n",
    "        for i in soup.find(\"ol\", class_=\"row\").find_all(\"li\"):\n",
    "        # Extraire le titre du livre\n",
    "        # Extraire le prix du livre\n",
    "        # Extraire la notation du livre\n",
    "            titre = i.h3.a[\"title\"]\n",
    "            prix = float(i.find(\"div\", class_=\"product_price\").find(\"p\", class_=\"price_color\").text.strip(\"Â£\"))\n",
    "            rating = i.find(\"p\", class_=\"star-rating\")['class'][1]\n",
    "            disponibilite = i.find(\"p\", class_=\"instock availability\").text.strip()\n",
    "            books.append({'title': titre, 'rating': rating, 'price': prix, 'availability': disponibilite})\n",
    "        df_books=pd.DataFrame(books)\n",
    "    return df_books\n"
   ]
  },
  {
   "cell_type": "code",
   "execution_count": 8,
   "id": "a23db185",
   "metadata": {},
   "outputs": [],
   "source": [
    "p=extract_book_info('http://books.toscrape.com/catalogue/page-2.html')"
   ]
  },
  {
   "cell_type": "code",
   "execution_count": 9,
   "id": "74881216",
   "metadata": {},
   "outputs": [
    {
     "data": {
      "text/html": [
       "<div>\n",
       "<style scoped>\n",
       "    .dataframe tbody tr th:only-of-type {\n",
       "        vertical-align: middle;\n",
       "    }\n",
       "\n",
       "    .dataframe tbody tr th {\n",
       "        vertical-align: top;\n",
       "    }\n",
       "\n",
       "    .dataframe thead th {\n",
       "        text-align: right;\n",
       "    }\n",
       "</style>\n",
       "<table border=\"1\" class=\"dataframe\">\n",
       "  <thead>\n",
       "    <tr style=\"text-align: right;\">\n",
       "      <th></th>\n",
       "      <th>title</th>\n",
       "      <th>rating</th>\n",
       "      <th>price</th>\n",
       "      <th>availability</th>\n",
       "    </tr>\n",
       "  </thead>\n",
       "  <tbody>\n",
       "    <tr>\n",
       "      <th>0</th>\n",
       "      <td>In Her Wake</td>\n",
       "      <td>One</td>\n",
       "      <td>12.84</td>\n",
       "      <td>In stock</td>\n",
       "    </tr>\n",
       "    <tr>\n",
       "      <th>1</th>\n",
       "      <td>How Music Works</td>\n",
       "      <td>Two</td>\n",
       "      <td>37.32</td>\n",
       "      <td>In stock</td>\n",
       "    </tr>\n",
       "    <tr>\n",
       "      <th>2</th>\n",
       "      <td>Foolproof Preserving: A Guide to Small Batch J...</td>\n",
       "      <td>Three</td>\n",
       "      <td>30.52</td>\n",
       "      <td>In stock</td>\n",
       "    </tr>\n",
       "    <tr>\n",
       "      <th>3</th>\n",
       "      <td>Chase Me (Paris Nights #2)</td>\n",
       "      <td>Five</td>\n",
       "      <td>25.27</td>\n",
       "      <td>In stock</td>\n",
       "    </tr>\n",
       "    <tr>\n",
       "      <th>4</th>\n",
       "      <td>Black Dust</td>\n",
       "      <td>Five</td>\n",
       "      <td>34.53</td>\n",
       "      <td>In stock</td>\n",
       "    </tr>\n",
       "  </tbody>\n",
       "</table>\n",
       "</div>"
      ],
      "text/plain": [
       "                                               title rating  price  \\\n",
       "0                                        In Her Wake    One  12.84   \n",
       "1                                    How Music Works    Two  37.32   \n",
       "2  Foolproof Preserving: A Guide to Small Batch J...  Three  30.52   \n",
       "3                         Chase Me (Paris Nights #2)   Five  25.27   \n",
       "4                                         Black Dust   Five  34.53   \n",
       "\n",
       "  availability  \n",
       "0     In stock  \n",
       "1     In stock  \n",
       "2     In stock  \n",
       "3     In stock  \n",
       "4     In stock  "
      ]
     },
     "execution_count": 9,
     "metadata": {},
     "output_type": "execute_result"
    }
   ],
   "source": [
    "p.head()"
   ]
  },
  {
   "cell_type": "code",
   "execution_count": 10,
   "id": "3c6be1d9",
   "metadata": {},
   "outputs": [
    {
     "data": {
      "text/plain": [
       "(20, 4)"
      ]
     },
     "execution_count": 10,
     "metadata": {},
     "output_type": "execute_result"
    }
   ],
   "source": [
    "p.shape"
   ]
  },
  {
   "cell_type": "code",
   "execution_count": 11,
   "id": "94393dfc",
   "metadata": {},
   "outputs": [],
   "source": [
    "# Une Boocle pour parcourir ttes les pages\n",
    "#TBD\n",
    "df_books = []\n",
    "for i in range(1, 51):\n",
    "    curr_p = \"http://books.toscrape.com/catalogue/page-\"+str(i)+\".html\"\n",
    "    df_books.append(extract_book_info(curr_p))\n",
    "df_books_ = pd.concat(df_books)"
   ]
  },
  {
   "cell_type": "code",
   "execution_count": null,
   "id": "f41ba92b",
   "metadata": {},
   "outputs": [],
   "source": []
  },
  {
   "cell_type": "code",
   "execution_count": 13,
   "id": "3212a93d",
   "metadata": {},
   "outputs": [
    {
     "data": {
      "text/plain": [
       "(1000, 4)"
      ]
     },
     "execution_count": 13,
     "metadata": {},
     "output_type": "execute_result"
    }
   ],
   "source": [
    "\n",
    "df_books_.shape"
   ]
  },
  {
   "cell_type": "code",
   "execution_count": 14,
   "id": "fa28a927",
   "metadata": {
    "scrolled": false
   },
   "outputs": [
    {
     "data": {
      "text/html": [
       "<div>\n",
       "<style scoped>\n",
       "    .dataframe tbody tr th:only-of-type {\n",
       "        vertical-align: middle;\n",
       "    }\n",
       "\n",
       "    .dataframe tbody tr th {\n",
       "        vertical-align: top;\n",
       "    }\n",
       "\n",
       "    .dataframe thead th {\n",
       "        text-align: right;\n",
       "    }\n",
       "</style>\n",
       "<table border=\"1\" class=\"dataframe\">\n",
       "  <thead>\n",
       "    <tr style=\"text-align: right;\">\n",
       "      <th></th>\n",
       "      <th>title</th>\n",
       "      <th>rating</th>\n",
       "      <th>price</th>\n",
       "      <th>availability</th>\n",
       "    </tr>\n",
       "  </thead>\n",
       "  <tbody>\n",
       "    <tr>\n",
       "      <th>0</th>\n",
       "      <td>A Light in the Attic</td>\n",
       "      <td>Three</td>\n",
       "      <td>51.77</td>\n",
       "      <td>In stock</td>\n",
       "    </tr>\n",
       "    <tr>\n",
       "      <th>1</th>\n",
       "      <td>Tipping the Velvet</td>\n",
       "      <td>One</td>\n",
       "      <td>53.74</td>\n",
       "      <td>In stock</td>\n",
       "    </tr>\n",
       "    <tr>\n",
       "      <th>2</th>\n",
       "      <td>Soumission</td>\n",
       "      <td>One</td>\n",
       "      <td>50.10</td>\n",
       "      <td>In stock</td>\n",
       "    </tr>\n",
       "    <tr>\n",
       "      <th>3</th>\n",
       "      <td>Sharp Objects</td>\n",
       "      <td>Four</td>\n",
       "      <td>47.82</td>\n",
       "      <td>In stock</td>\n",
       "    </tr>\n",
       "    <tr>\n",
       "      <th>4</th>\n",
       "      <td>Sapiens: A Brief History of Humankind</td>\n",
       "      <td>Five</td>\n",
       "      <td>54.23</td>\n",
       "      <td>In stock</td>\n",
       "    </tr>\n",
       "  </tbody>\n",
       "</table>\n",
       "</div>"
      ],
      "text/plain": [
       "                                   title rating  price availability\n",
       "0                   A Light in the Attic  Three  51.77     In stock\n",
       "1                     Tipping the Velvet    One  53.74     In stock\n",
       "2                             Soumission    One  50.10     In stock\n",
       "3                          Sharp Objects   Four  47.82     In stock\n",
       "4  Sapiens: A Brief History of Humankind   Five  54.23     In stock"
      ]
     },
     "execution_count": 14,
     "metadata": {},
     "output_type": "execute_result"
    }
   ],
   "source": [
    "df_books_.head()"
   ]
  },
  {
   "cell_type": "code",
   "execution_count": 15,
   "id": "4c2021d4",
   "metadata": {},
   "outputs": [],
   "source": [
    "all_books = []\n",
    "for i in range(0, df_books_.shape[0], 20):\n",
    "    sublist = df_books_[i:i+20]\n",
    "    all_books.append(sublist)"
   ]
  },
  {
   "cell_type": "code",
   "execution_count": 16,
   "id": "e3af3f96",
   "metadata": {},
   "outputs": [
    {
     "name": "stdout",
     "output_type": "stream",
     "text": [
      "All_books: <class 'list'> de  50 pages,  avec 20 livres par page\n"
     ]
    }
   ],
   "source": [
    "print('All_books:',type(all_books),'de ',len(all_books),'pages,  avec' ,all_books[0].shape[0], 'livres par page')"
   ]
  },
  {
   "cell_type": "markdown",
   "id": "5f607a78",
   "metadata": {},
   "source": [
    "#### Récupérer les livres de toutes les pages avec leurs  catégories"
   ]
  },
  {
   "cell_type": "code",
   "execution_count": 29,
   "id": "445e7540",
   "metadata": {},
   "outputs": [
    {
     "data": {
      "text/html": [
       "<div>\n",
       "<style scoped>\n",
       "    .dataframe tbody tr th:only-of-type {\n",
       "        vertical-align: middle;\n",
       "    }\n",
       "\n",
       "    .dataframe tbody tr th {\n",
       "        vertical-align: top;\n",
       "    }\n",
       "\n",
       "    .dataframe thead th {\n",
       "        text-align: right;\n",
       "    }\n",
       "</style>\n",
       "<table border=\"1\" class=\"dataframe\">\n",
       "  <thead>\n",
       "    <tr style=\"text-align: right;\">\n",
       "      <th></th>\n",
       "      <th>title</th>\n",
       "      <th>rating</th>\n",
       "      <th>price</th>\n",
       "      <th>availability</th>\n",
       "      <th>categorie</th>\n",
       "    </tr>\n",
       "  </thead>\n",
       "  <tbody>\n",
       "    <tr>\n",
       "      <th>0</th>\n",
       "      <td>A Light in the Attic</td>\n",
       "      <td>Three</td>\n",
       "      <td>51.77</td>\n",
       "      <td>In stock</td>\n",
       "      <td>Books</td>\n",
       "    </tr>\n",
       "    <tr>\n",
       "      <th>1</th>\n",
       "      <td>Tipping the Velvet</td>\n",
       "      <td>One</td>\n",
       "      <td>53.74</td>\n",
       "      <td>In stock</td>\n",
       "      <td>Books</td>\n",
       "    </tr>\n",
       "    <tr>\n",
       "      <th>2</th>\n",
       "      <td>Soumission</td>\n",
       "      <td>One</td>\n",
       "      <td>50.10</td>\n",
       "      <td>In stock</td>\n",
       "      <td>Books</td>\n",
       "    </tr>\n",
       "    <tr>\n",
       "      <th>3</th>\n",
       "      <td>Sharp Objects</td>\n",
       "      <td>Four</td>\n",
       "      <td>47.82</td>\n",
       "      <td>In stock</td>\n",
       "      <td>Books</td>\n",
       "    </tr>\n",
       "    <tr>\n",
       "      <th>4</th>\n",
       "      <td>Sapiens: A Brief History of Humankind</td>\n",
       "      <td>Five</td>\n",
       "      <td>54.23</td>\n",
       "      <td>In stock</td>\n",
       "      <td>Books</td>\n",
       "    </tr>\n",
       "  </tbody>\n",
       "</table>\n",
       "</div>"
      ],
      "text/plain": [
       "                                   title rating  price availability categorie\n",
       "0                   A Light in the Attic  Three  51.77     In stock     Books\n",
       "1                     Tipping the Velvet    One  53.74     In stock     Books\n",
       "2                             Soumission    One  50.10     In stock     Books\n",
       "3                          Sharp Objects   Four  47.82     In stock     Books\n",
       "4  Sapiens: A Brief History of Humankind   Five  54.23     In stock     Books"
      ]
     },
     "execution_count": 29,
     "metadata": {},
     "output_type": "execute_result"
    }
   ],
   "source": [
    "#TBD\n",
    "def extract_book_info_ctg(page_url):\n",
    "    books = []\n",
    "    response = requests.get(page_url)\n",
    "    if response.status_code == 200:\n",
    "        soup = BeautifulSoup(response.text, 'html.parser')\n",
    "        categorie = soup.find(\"div\", class_=\"side_categories\").find(\"li\").find(\"a\").text.strip()\n",
    "        for i in soup.find(\"ol\", class_=\"row\").find_all(\"li\"):\n",
    "            titre = i.h3.a[\"title\"]\n",
    "            prix = float(i.find(\"div\", class_=\"product_price\").find(\"p\", class_=\"price_color\").text.strip(\"Â£\"))\n",
    "            rating = i.find(\"p\", class_=\"star-rating\")['class'][1]\n",
    "            disponibilite = i.find(\"p\", class_=\"instock availability\").text.strip()\n",
    "            books.append({'title': titre, 'rating': rating, 'price': prix, 'availability': disponibilite, 'categorie':categorie})\n",
    "        df_books=pd.DataFrame(books)\n",
    "    return df_books\n",
    "\n",
    "df_books = []\n",
    "for i in range(1, 51):\n",
    "    curr_p = \"http://books.toscrape.com/catalogue/page-\"+str(i)+\".html\"\n",
    "    df_books.append(extract_book_info_ctg(curr_p))\n",
    "book_infos = pd.concat(df_books)\n",
    "book_infos.head()"
   ]
  },
  {
   "cell_type": "code",
   "execution_count": 30,
   "id": "6d401974",
   "metadata": {},
   "outputs": [],
   "source": [
    "#Save data into csv file\n",
    "book_infos.to_csv('books.csv',index=False,header=True)"
   ]
  },
  {
   "cell_type": "markdown",
   "id": "c55f4a9a",
   "metadata": {},
   "source": [
    "### Nettoyage et préparation des données"
   ]
  },
  {
   "cell_type": "code",
   "execution_count": 31,
   "id": "d7a63881",
   "metadata": {
    "scrolled": false
   },
   "outputs": [
    {
     "data": {
      "text/html": [
       "<div>\n",
       "<style scoped>\n",
       "    .dataframe tbody tr th:only-of-type {\n",
       "        vertical-align: middle;\n",
       "    }\n",
       "\n",
       "    .dataframe tbody tr th {\n",
       "        vertical-align: top;\n",
       "    }\n",
       "\n",
       "    .dataframe thead th {\n",
       "        text-align: right;\n",
       "    }\n",
       "</style>\n",
       "<table border=\"1\" class=\"dataframe\">\n",
       "  <thead>\n",
       "    <tr style=\"text-align: right;\">\n",
       "      <th></th>\n",
       "      <th>title</th>\n",
       "      <th>rating</th>\n",
       "      <th>price</th>\n",
       "      <th>availability</th>\n",
       "      <th>categorie</th>\n",
       "    </tr>\n",
       "  </thead>\n",
       "  <tbody>\n",
       "    <tr>\n",
       "      <th>0</th>\n",
       "      <td>A Light in the Attic</td>\n",
       "      <td>Three</td>\n",
       "      <td>51.77</td>\n",
       "      <td>In stock</td>\n",
       "      <td>Books</td>\n",
       "    </tr>\n",
       "    <tr>\n",
       "      <th>1</th>\n",
       "      <td>Tipping the Velvet</td>\n",
       "      <td>One</td>\n",
       "      <td>53.74</td>\n",
       "      <td>In stock</td>\n",
       "      <td>Books</td>\n",
       "    </tr>\n",
       "    <tr>\n",
       "      <th>2</th>\n",
       "      <td>Soumission</td>\n",
       "      <td>One</td>\n",
       "      <td>50.10</td>\n",
       "      <td>In stock</td>\n",
       "      <td>Books</td>\n",
       "    </tr>\n",
       "    <tr>\n",
       "      <th>3</th>\n",
       "      <td>Sharp Objects</td>\n",
       "      <td>Four</td>\n",
       "      <td>47.82</td>\n",
       "      <td>In stock</td>\n",
       "      <td>Books</td>\n",
       "    </tr>\n",
       "    <tr>\n",
       "      <th>4</th>\n",
       "      <td>Sapiens: A Brief History of Humankind</td>\n",
       "      <td>Five</td>\n",
       "      <td>54.23</td>\n",
       "      <td>In stock</td>\n",
       "      <td>Books</td>\n",
       "    </tr>\n",
       "  </tbody>\n",
       "</table>\n",
       "</div>"
      ],
      "text/plain": [
       "                                   title rating  price availability categorie\n",
       "0                   A Light in the Attic  Three  51.77     In stock     Books\n",
       "1                     Tipping the Velvet    One  53.74     In stock     Books\n",
       "2                             Soumission    One  50.10     In stock     Books\n",
       "3                          Sharp Objects   Four  47.82     In stock     Books\n",
       "4  Sapiens: A Brief History of Humankind   Five  54.23     In stock     Books"
      ]
     },
     "execution_count": 31,
     "metadata": {},
     "output_type": "execute_result"
    }
   ],
   "source": [
    "df1=pd.read_csv('books.csv')\n",
    "df1.head()"
   ]
  },
  {
   "cell_type": "markdown",
   "id": "10717d2c",
   "metadata": {},
   "source": [
    "#### Comprendre la structure des données + Analyse descriptive \n",
    "\n",
    "\n",
    "* Etudier la structure du DataFrame : head(), info(),describe() , observer les diff types de données, les valeurs manquantes,les doublons, les statistiques sommaires, etc.\n"
   ]
  },
  {
   "cell_type": "code",
   "execution_count": 37,
   "id": "8c3f0a00",
   "metadata": {},
   "outputs": [
    {
     "name": "stdout",
     "output_type": "stream",
     "text": [
      "                                   title rating  price availability categorie\n",
      "0                   A Light in the Attic  Three  51.77     In stock     Books\n",
      "1                     Tipping the Velvet    One  53.74     In stock     Books\n",
      "2                             Soumission    One  50.10     In stock     Books\n",
      "3                          Sharp Objects   Four  47.82     In stock     Books\n",
      "4  Sapiens: A Brief History of Humankind   Five  54.23     In stock     Books \n",
      "\n",
      "<class 'pandas.core.frame.DataFrame'>\n",
      "RangeIndex: 1000 entries, 0 to 999\n",
      "Data columns (total 5 columns):\n",
      " #   Column        Non-Null Count  Dtype  \n",
      "---  ------        --------------  -----  \n",
      " 0   title         1000 non-null   object \n",
      " 1   rating        1000 non-null   object \n",
      " 2   price         1000 non-null   float64\n",
      " 3   availability  1000 non-null   object \n",
      " 4   categorie     1000 non-null   object \n",
      "dtypes: float64(1), object(4)\n",
      "memory usage: 39.2+ KB\n"
     ]
    },
    {
     "data": {
      "text/html": [
       "<div>\n",
       "<style scoped>\n",
       "    .dataframe tbody tr th:only-of-type {\n",
       "        vertical-align: middle;\n",
       "    }\n",
       "\n",
       "    .dataframe tbody tr th {\n",
       "        vertical-align: top;\n",
       "    }\n",
       "\n",
       "    .dataframe thead th {\n",
       "        text-align: right;\n",
       "    }\n",
       "</style>\n",
       "<table border=\"1\" class=\"dataframe\">\n",
       "  <thead>\n",
       "    <tr style=\"text-align: right;\">\n",
       "      <th></th>\n",
       "      <th>price</th>\n",
       "    </tr>\n",
       "  </thead>\n",
       "  <tbody>\n",
       "    <tr>\n",
       "      <th>count</th>\n",
       "      <td>1000.00000</td>\n",
       "    </tr>\n",
       "    <tr>\n",
       "      <th>mean</th>\n",
       "      <td>35.07035</td>\n",
       "    </tr>\n",
       "    <tr>\n",
       "      <th>std</th>\n",
       "      <td>14.44669</td>\n",
       "    </tr>\n",
       "    <tr>\n",
       "      <th>min</th>\n",
       "      <td>10.00000</td>\n",
       "    </tr>\n",
       "    <tr>\n",
       "      <th>25%</th>\n",
       "      <td>22.10750</td>\n",
       "    </tr>\n",
       "    <tr>\n",
       "      <th>50%</th>\n",
       "      <td>35.98000</td>\n",
       "    </tr>\n",
       "    <tr>\n",
       "      <th>75%</th>\n",
       "      <td>47.45750</td>\n",
       "    </tr>\n",
       "    <tr>\n",
       "      <th>max</th>\n",
       "      <td>59.99000</td>\n",
       "    </tr>\n",
       "  </tbody>\n",
       "</table>\n",
       "</div>"
      ],
      "text/plain": [
       "            price\n",
       "count  1000.00000\n",
       "mean     35.07035\n",
       "std      14.44669\n",
       "min      10.00000\n",
       "25%      22.10750\n",
       "50%      35.98000\n",
       "75%      47.45750\n",
       "max      59.99000"
      ]
     },
     "execution_count": 37,
     "metadata": {},
     "output_type": "execute_result"
    }
   ],
   "source": [
    "#TBD\n",
    "print(df1.head(),\"\\n\")\n",
    "df1.info()\n",
    "df1.describe()"
   ]
  },
  {
   "cell_type": "markdown",
   "id": "4de7f349",
   "metadata": {},
   "source": [
    "##### Gestion des valeurs manquantes\n",
    "\n",
    "* Rechercher des valeurs manquantes  à l'aide de la méthode `.isnull()` ou `.isna()`. \n",
    "\n",
    "=> Si vous en trouvez, vous pouvez décider de les supprimer ou de les remplacer par des valeurs appropriées."
   ]
  },
  {
   "cell_type": "code",
   "execution_count": 40,
   "id": "4e285254",
   "metadata": {},
   "outputs": [
    {
     "data": {
      "text/plain": [
       "title           0\n",
       "rating          0\n",
       "price           0\n",
       "availability    0\n",
       "categorie       0\n",
       "dtype: int64"
      ]
     },
     "execution_count": 40,
     "metadata": {},
     "output_type": "execute_result"
    }
   ],
   "source": [
    " #Vérifier les valeurs manquantes\n",
    "#TBD\n",
    "df1.isna().sum()\n",
    "#pas de NAs"
   ]
  },
  {
   "cell_type": "markdown",
   "id": "b6e6fdfa",
   "metadata": {},
   "source": [
    "#####  Gestion des doublons\n",
    "\n",
    "* Utiliser la méthode `drop_duplicates()` pour supprimer les lignes dupliquées.\n"
   ]
  },
  {
   "cell_type": "code",
   "execution_count": 54,
   "id": "e3545281",
   "metadata": {},
   "outputs": [
    {
     "name": "stdout",
     "output_type": "stream",
     "text": [
      "old : (1000, 5)\n",
      "0      False\n",
      "1      False\n",
      "2      False\n",
      "3      False\n",
      "4      False\n",
      "       ...  \n",
      "995    False\n",
      "996    False\n",
      "997    False\n",
      "998    False\n",
      "999    False\n",
      "Length: 1000, dtype: bool\n",
      "new : (1000, 5)\n"
     ]
    }
   ],
   "source": [
    "# Vérifier les doublons dans le DataFrame\n",
    "#TBD\n",
    "print(\"old :\",df1.shape)\n",
    "print(df1.duplicated())\n",
    "df1.drop_duplicates(inplace=True)\n",
    "print(\"new :\",df1.shape)\n",
    "#pas de doublons"
   ]
  },
  {
   "cell_type": "markdown",
   "id": "184cbea2",
   "metadata": {},
   "source": [
    "#### Conversion de types de données\n",
    "\n",
    "* Vérifier que les colonnes \"rating\" et \"price\", availability ont les types de données appropriés. \n",
    "\n"
   ]
  },
  {
   "cell_type": "code",
   "execution_count": null,
   "id": "8f1bfc72",
   "metadata": {},
   "outputs": [],
   "source": [
    "#TBD"
   ]
  },
  {
   "cell_type": "code",
   "execution_count": 57,
   "id": "d37e2f08",
   "metadata": {},
   "outputs": [
    {
     "data": {
      "text/plain": [
       "title            object\n",
       "rating           object\n",
       "price           float64\n",
       "availability     object\n",
       "categorie        object\n",
       "dtype: object"
      ]
     },
     "execution_count": 57,
     "metadata": {},
     "output_type": "execute_result"
    }
   ],
   "source": [
    "df1.dtypes"
   ]
  },
  {
   "cell_type": "code",
   "execution_count": null,
   "id": "a92a97a5",
   "metadata": {},
   "outputs": [],
   "source": []
  },
  {
   "cell_type": "markdown",
   "id": "58ef6bde",
   "metadata": {},
   "source": [
    "### Analyse exploratoire et Visualisation des données\n",
    "\n",
    "* faire une analyse exploratoire des données pour mieux comprendre la distribution des valeurs dans chaque colonne, identifier des tendances ou des valeurs aberrantes potentielles.."
   ]
  },
  {
   "cell_type": "markdown",
   "id": "7fcd4196",
   "metadata": {},
   "source": [
    "#### Analyse univariée, Visualiser les données\n",
    "\n",
    "* Distribution de la variable 'price' =>  Création d'un histogramme pour le prix"
   ]
  },
  {
   "cell_type": "code",
   "execution_count": 58,
   "id": "032197e3",
   "metadata": {},
   "outputs": [
    {
     "data": {
      "image/png": "[encoded data removed]",
      "text/plain": [
       "<Figure size 640x480 with 1 Axes>"
      ]
     },
     "metadata": {},
     "output_type": "display_data"
    }
   ],
   "source": [
    "#TBD\n",
    "plt.hist(df1[\"price\"])\n",
    "plt.show() "
   ]
  },
  {
   "cell_type": "markdown",
   "id": "b7a45746",
   "metadata": {},
   "source": [
    "* Distribution de la variable 'availability' "
   ]
  },
  {
   "cell_type": "code",
   "execution_count": 59,
   "id": "a4f59406",
   "metadata": {},
   "outputs": [
    {
     "data": {
      "image/png": "[encoded data removed]",
      "text/plain": [
       "<Figure size 640x480 with 1 Axes>"
      ]
     },
     "metadata": {},
     "output_type": "display_data"
    }
   ],
   "source": [
    "#TBD\n",
    "plt.hist(df1[\"availability\"])\n",
    "plt.show()\n",
    "#tous les livres sont en stock"
   ]
  },
  {
   "cell_type": "markdown",
   "id": "697b1389",
   "metadata": {},
   "source": [
    "* Distribution de la variable 'rating'"
   ]
  },
  {
   "cell_type": "code",
   "execution_count": 60,
   "id": "b8db28dc",
   "metadata": {},
   "outputs": [
    {
     "data": {
      "image/png": "[encoded data removed]",
      "text/plain": [
       "<Figure size 640x480 with 1 Axes>"
      ]
     },
     "metadata": {},
     "output_type": "display_data"
    }
   ],
   "source": [
    "#TBD\n",
    "plt.hist(df1[\"rating\"])\n",
    "plt.show() "
   ]
  },
  {
   "cell_type": "markdown",
   "id": "2e20a700",
   "metadata": {},
   "source": [
    "#### Analyser les categories de livres \n",
    "\n",
    "* comparer la catégorie 'Books' avec les reste des categories ..\n"
   ]
  },
  {
   "cell_type": "code",
   "execution_count": null,
   "id": "d7ad4423",
   "metadata": {},
   "outputs": [],
   "source": [
    "#TBD"
   ]
  },
  {
   "cell_type": "markdown",
   "id": "172afc52",
   "metadata": {},
   "source": [
    "\n",
    "\n",
    "* Création d'un diagramme à barres pour la répartition des livres par catégorie\n"
   ]
  },
  {
   "cell_type": "code",
   "execution_count": 7,
   "id": "ba64b2a3",
   "metadata": {},
   "outputs": [],
   "source": [
    "#TBD"
   ]
  },
  {
   "cell_type": "code",
   "execution_count": null,
   "id": "69b76ad7",
   "metadata": {},
   "outputs": [],
   "source": []
  },
  {
   "cell_type": "code",
   "execution_count": null,
   "id": "b552cf53",
   "metadata": {},
   "outputs": [],
   "source": []
  },
  {
   "cell_type": "markdown",
   "id": "56563158",
   "metadata": {},
   "source": [
    "#### Identifier les valeurs aberrantes (outliers)\n",
    "\n",
    "* Création d'un boxplot pour le prix par catégorie\n"
   ]
  },
  {
   "cell_type": "code",
   "execution_count": 8,
   "id": "22275173",
   "metadata": {},
   "outputs": [],
   "source": [
    "#TBD"
   ]
  },
  {
   "cell_type": "markdown",
   "id": "b5a7727d",
   "metadata": {},
   "source": [
    "## Partie 2:\n",
    "\n",
    "###  Proposer d'autres axes d'analyse\n",
    "\n",
    "### continuer le scraping du site en récupérant plus d'informations sur les livres.."
   ]
  },
  {
   "cell_type": "code",
   "execution_count": null,
   "id": "8c71bef6",
   "metadata": {},
   "outputs": [],
   "source": []
  }
 ],
 "metadata": {
  "kernelspec": {
   "display_name": "Python 3 (ipykernel)",
   "language": "python",
   "name": "python3"
  },
  "language_info": {
   "codemirror_mode": {
    "name": "ipython",
    "version": 3
   },
   "file_extension": ".py",
   "mimetype": "text/x-python",
   "name": "python",
   "nbconvert_exporter": "python",
   "pygments_lexer": "ipython3",
   "version": "3.11.9"
  },
  "toc": {
   "base_numbering": 1,
   "nav_menu": {},
   "number_sections": true,
   "sideBar": true,
   "skip_h1_title": true,
   "title_cell": "Table of Contents",
   "title_sidebar": "Contents",
   "toc_cell": false,
   "toc_position": {
    "height": "calc(100% - 180px)",
    "left": "10px",
    "top": "150px",
    "width": "384.782px"
   },
   "toc_section_display": true,
   "toc_window_display": true
  }
 },
 "nbformat": 4,
 "nbformat_minor": 5
}
